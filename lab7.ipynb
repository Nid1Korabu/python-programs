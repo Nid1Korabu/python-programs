{
 "cells": [
  {
   "cell_type": "code",
   "execution_count": 5,
   "id": "a6e9d20d",
   "metadata": {},
   "outputs": [
    {
     "name": "stdout",
     "output_type": "stream",
     "text": [
      "enter the folder name for backup:C:\\python programms\n"
     ]
    },
    {
     "ename": "PermissionError",
     "evalue": "[Errno 13] Permission denied: 'C:\\\\python programms.zip'",
     "output_type": "error",
     "traceback": [
      "\u001b[1;31m--------------------------------------------\u001b[0m",
      "\u001b[1;31mPermissionError\u001b[0mTraceback (most recent call last)",
      "Cell \u001b[1;32mIn[5], line 40\u001b[0m\n\u001b[0;32m     37\u001b[0m zip_filename\u001b[38;5;241m=\u001b[39m\u001b[38;5;124mf\u001b[39m\u001b[38;5;124m\"\u001b[39m\u001b[38;5;132;01m{\u001b[39;00mfolder_to_backup\u001b[38;5;132;01m}\u001b[39;00m\u001b[38;5;124m.zip\u001b[39m\u001b[38;5;124m\"\u001b[39m\n\u001b[0;32m     39\u001b[0m \u001b[38;5;66;03m#call the function to create the backup\u001b[39;00m\n\u001b[1;32m---> 40\u001b[0m \u001b[43mbackup_folder_to_zip\u001b[49m\u001b[43m(\u001b[49m\u001b[43mfolder_to_backup\u001b[49m\u001b[43m,\u001b[49m\u001b[43mzip_filename\u001b[49m\u001b[43m)\u001b[49m\n",
      "Cell \u001b[1;32mIn[5], line 12\u001b[0m, in \u001b[0;36mbackup_folder_to_zip\u001b[1;34m(source_folder, zip_filename)\u001b[0m\n\u001b[0;32m      9\u001b[0m     \u001b[38;5;28;01mreturn\u001b[39;00m \u001b[38;5;124mf\u001b[39m\u001b[38;5;124m\"\u001b[39m\u001b[38;5;124mError:source folder \u001b[39m\u001b[38;5;124m'\u001b[39m\u001b[38;5;132;01m{\u001b[39;00msource_folder\u001b[38;5;132;01m}\u001b[39;00m\u001b[38;5;124m'\u001b[39m\u001b[38;5;124mdoes not exists\u001b[39m\u001b[38;5;124m\"\u001b[39m   \n\u001b[0;32m     11\u001b[0m \u001b[38;5;66;03m#crete  zip file in the current working directory\u001b[39;00m\n\u001b[1;32m---> 12\u001b[0m zipf\u001b[38;5;241m=\u001b[39m\u001b[43mzipfile\u001b[49m\u001b[38;5;241;43m.\u001b[39;49m\u001b[43mZipFile\u001b[49m\u001b[43m(\u001b[49m\u001b[43mzip_filename\u001b[49m\u001b[43m,\u001b[49m\u001b[38;5;124;43m'\u001b[39;49m\u001b[38;5;124;43mw\u001b[39;49m\u001b[38;5;124;43m'\u001b[39;49m\u001b[43m)\u001b[49m\n\u001b[0;32m     14\u001b[0m \u001b[38;5;66;03m# work through the source folder nd its contentto a ZIP file \u001b[39;00m\n\u001b[0;32m     15\u001b[0m \u001b[38;5;28;01mfor\u001b[39;00m foldername,subfolders,filenames \u001b[38;5;129;01min\u001b[39;00m os\u001b[38;5;241m.\u001b[39mwalk(source_folder):\n",
      "File \u001b[1;32m~\\anaconda3\\lib\\zipfile.py:1249\u001b[0m, in \u001b[0;36mZipFile.__init__\u001b[1;34m(self, file, mode, compression, allowZip64, compresslevel, strict_timestamps)\u001b[0m\n\u001b[0;32m   1247\u001b[0m \u001b[38;5;28;01mwhile\u001b[39;00m \u001b[38;5;28;01mTrue\u001b[39;00m:\n\u001b[0;32m   1248\u001b[0m     \u001b[38;5;28;01mtry\u001b[39;00m:\n\u001b[1;32m-> 1249\u001b[0m         \u001b[38;5;28mself\u001b[39m\u001b[38;5;241m.\u001b[39mfp \u001b[38;5;241m=\u001b[39m \u001b[43mio\u001b[49m\u001b[38;5;241;43m.\u001b[39;49m\u001b[43mopen\u001b[49m\u001b[43m(\u001b[49m\u001b[43mfile\u001b[49m\u001b[43m,\u001b[49m\u001b[43m \u001b[49m\u001b[43mfilemode\u001b[49m\u001b[43m)\u001b[49m\n\u001b[0;32m   1250\u001b[0m     \u001b[38;5;28;01mexcept\u001b[39;00m \u001b[38;5;167;01mOSError\u001b[39;00m:\n\u001b[0;32m   1251\u001b[0m         \u001b[38;5;28;01mif\u001b[39;00m filemode \u001b[38;5;129;01min\u001b[39;00m modeDict:\n",
      "\u001b[1;31mPermissionError\u001b[0m: [Errno 13] Permission denied: 'C:\\\\python programms.zip'"
     ]
    }
   ],
   "source": [
    "# #develop a progrm for bcking up a given folder (Folder in a current working directory) into ZIP file by using relevant modules and suitable methods..\n",
    "import os \n",
    "import zipfile\n",
    "\n",
    "def backup_folder_to_zip(source_folder,zip_filename):\n",
    "    #check if the source folder exists\n",
    "    if not os.path.exists(source_folder):\n",
    "        print (f\"Error: Source folder '{source_folder}' does not exist.\") \n",
    "        return f\"Error:source folder '{source_folder}'does not exists\"   \n",
    "\n",
    "    #crete  zip file in the current working directory\n",
    "    zipf=zipfile.ZipFile(zip_filename,'w')\n",
    "    \n",
    "    # work through the source folder nd its contentto a ZIP file \n",
    "    for foldername,subfolders,filenames in os.walk(source_folder):\n",
    "        for filename in filenames:\n",
    "            file_path=os.path.join(foldername,filename)\n",
    "            zipf.write(file_path,os.path.relpath(file_path,source_folder))\n",
    "            print(f\"zipping: {file_path}\")\n",
    "            \n",
    "        #close the Zip file\n",
    "        zipf.close()\n",
    "        print()\n",
    "        print(\"folder Names:\",foldername)\n",
    "        print()\n",
    "        print(\"subfolders:\",subfolders)\n",
    "        print()\n",
    "        print(\"filename:\",filenames)\n",
    "        print()\n",
    "        print(f\"Backup successful: '{source_folder}'has been backed up to '{zip_filename}'\")\n",
    "        \n",
    "#get the folder name from the user\n",
    "\n",
    "folder_to_backup=input(\"enter the folder name for backup:\")\n",
    "\n",
    "#generate a ziup file name based on the folder name\n",
    "zip_filename=f\"{folder_to_backup}.zip\"\n",
    "              \n",
    "#call the function to create the backup\n",
    "backup_folder_to_zip(folder_to_backup,zip_filename)"
   ]
  },
  {
   "cell_type": "code",
   "execution_count": 4,
   "id": "904a7a10",
   "metadata": {},
   "outputs": [
    {
     "ename": "IndentationError",
     "evalue": "unexpected indent (2514257381.py, line 4)",
     "output_type": "error",
     "traceback": [
      "\u001b[1;36m  Cell \u001b[1;32mIn[4], line 4\u001b[1;36m\u001b[0m\n\u001b[1;33m    def backup(source_folder, zip_filename):\u001b[0m\n\u001b[1;37m    ^\u001b[0m\n\u001b[1;31mIndentationError\u001b[0m\u001b[1;31m:\u001b[0m unexpected indent\n"
     ]
    }
   ],
   "source": [
    "''' Develop a program for backing up a given folder (Folder in a current working directory) into a ZIP file by using relevant modules and suitable methods. ''' \n",
    "import os  \n",
    "import zipfile  \n",
    "def backup(source_folder, zip_filename):  \n",
    "    if not os.path.exists(source_folder):  \n",
    "        print (f\"Error: Source folder '{source_folder}' does not exist.\") \n",
    "    return  \n",
    "        zipf = zipfile.ZipFile(zip_filename, 'w')  \n",
    "    for foldername, subfolders, filenames in os.walk (source_folder):  \n",
    "        for filename in filenames:  \n",
    "    file_path = os.path.join(foldername, filename)  \n",
    "        zipf.write(file_path, os.path.relpath(file_path, source_folder))  \n",
    "    print(f\"Zipping: {file_path}\")  \n",
    "zipf.close()  \n",
    "print(f\"Backup successful: '{source_folder}' has been backed up to '{zip_filename}.\") \n",
    "main_folder = input(\"Enter the name of the folder to backup : \") \n",
    "zip_filename = f\"{main_folder}\" \n",
    "backup(main_folder,zip_filename)"
   ]
  },
  {
   "cell_type": "code",
   "execution_count": null,
   "id": "9f97426f",
   "metadata": {},
   "outputs": [],
   "source": []
  }
 ],
 "metadata": {
  "kernelspec": {
   "display_name": "Python 3 (ipykernel)",
   "language": "python",
   "name": "python3"
  },
  "language_info": {
   "codemirror_mode": {
    "name": "ipython",
    "version": 3
   },
   "file_extension": ".py",
   "mimetype": "text/x-python",
   "name": "python",
   "nbconvert_exporter": "python",
   "pygments_lexer": "ipython3",
   "version": "3.10.9"
  }
 },
 "nbformat": 4,
 "nbformat_minor": 5
}
